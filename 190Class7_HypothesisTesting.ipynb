{
 "cells": [
  {
   "cell_type": "code",
   "execution_count": 1,
   "id": "54243426",
   "metadata": {},
   "outputs": [],
   "source": [
    "import pandas as pd\n",
    "from pandas_datareader import data as pdr\n",
    "import yfinance as yf\n",
    "yf.pdr_override()"
   ]
  },
  {
   "cell_type": "code",
   "execution_count": 2,
   "id": "7913f03d",
   "metadata": {},
   "outputs": [],
   "source": [
    "import scipy.stats as sst\n",
    "import numpy as np"
   ]
  },
  {
   "cell_type": "code",
   "execution_count": 3,
   "id": "8b51d377",
   "metadata": {},
   "outputs": [
    {
     "data": {
      "text/plain": [
       "0.8849303297782918"
      ]
     },
     "execution_count": 3,
     "metadata": {},
     "output_type": "execute_result"
    }
   ],
   "source": [
    "#culumative distribution function, returns probability\n",
    "#probability of everything to the left of 1.2 in a normal distribution\n",
    "#to get everything to the right, compute (1 - cdf)\n",
    "sst.norm.cdf(1.2)"
   ]
  },
  {
   "cell_type": "code",
   "execution_count": 4,
   "id": "60d31460",
   "metadata": {},
   "outputs": [
    {
     "data": {
      "text/plain": [
       "1.959963984540054"
      ]
     },
     "execution_count": 4,
     "metadata": {},
     "output_type": "execute_result"
    }
   ],
   "source": [
    "#perfent point function, returns critical value\n",
    "#returns outcome, when given a probability (inverse of cdf)\n",
    "sst.norm.ppf(0.975)"
   ]
  },
  {
   "cell_type": "code",
   "execution_count": 5,
   "id": "f48e60f8",
   "metadata": {},
   "outputs": [
    {
     "data": {
      "text/plain": [
       "0.8711018496378471"
      ]
     },
     "execution_count": 5,
     "metadata": {},
     "output_type": "execute_result"
    }
   ],
   "source": [
    "sst.t.cdf(1.2, df=10)"
   ]
  },
  {
   "cell_type": "code",
   "execution_count": 6,
   "id": "ce11b064",
   "metadata": {
    "scrolled": true
   },
   "outputs": [
    {
     "name": "stdout",
     "output_type": "stream",
     "text": [
      "[*********************100%***********************]  1 of 1 completed\n",
      "[*********************100%***********************]  1 of 1 completed\n"
     ]
    }
   ],
   "source": [
    "tickers = ['MSFT', 'AAPL']\n",
    "\n",
    "sec_data=pd.DataFrame()\n",
    "\n",
    "for t in tickers:\n",
    "        sec_data[t]=pdr.get_data_yahoo(t, start='1997-1-1')['Adj Close']"
   ]
  },
  {
   "cell_type": "code",
   "execution_count": 7,
   "id": "1da37d2b",
   "metadata": {},
   "outputs": [
    {
     "data": {
      "text/html": [
       "<div>\n",
       "<style scoped>\n",
       "    .dataframe tbody tr th:only-of-type {\n",
       "        vertical-align: middle;\n",
       "    }\n",
       "\n",
       "    .dataframe tbody tr th {\n",
       "        vertical-align: top;\n",
       "    }\n",
       "\n",
       "    .dataframe thead th {\n",
       "        text-align: right;\n",
       "    }\n",
       "</style>\n",
       "<table border=\"1\" class=\"dataframe\">\n",
       "  <thead>\n",
       "    <tr style=\"text-align: right;\">\n",
       "      <th></th>\n",
       "      <th>MSFT</th>\n",
       "      <th>AAPL</th>\n",
       "    </tr>\n",
       "    <tr>\n",
       "      <th>Date</th>\n",
       "      <th></th>\n",
       "      <th></th>\n",
       "    </tr>\n",
       "  </thead>\n",
       "  <tbody>\n",
       "    <tr>\n",
       "      <th>1997-01-02</th>\n",
       "      <td>6.365713</td>\n",
       "      <td>0.159585</td>\n",
       "    </tr>\n",
       "    <tr>\n",
       "      <th>1997-01-03</th>\n",
       "      <td>6.599675</td>\n",
       "      <td>0.165284</td>\n",
       "    </tr>\n",
       "    <tr>\n",
       "      <th>1997-01-06</th>\n",
       "      <td>6.580177</td>\n",
       "      <td>0.135837</td>\n",
       "    </tr>\n",
       "    <tr>\n",
       "      <th>1997-01-07</th>\n",
       "      <td>6.628918</td>\n",
       "      <td>0.132987</td>\n",
       "    </tr>\n",
       "    <tr>\n",
       "      <th>1997-01-08</th>\n",
       "      <td>6.502192</td>\n",
       "      <td>0.133937</td>\n",
       "    </tr>\n",
       "  </tbody>\n",
       "</table>\n",
       "</div>"
      ],
      "text/plain": [
       "                MSFT      AAPL\n",
       "Date                          \n",
       "1997-01-02  6.365713  0.159585\n",
       "1997-01-03  6.599675  0.165284\n",
       "1997-01-06  6.580177  0.135837\n",
       "1997-01-07  6.628918  0.132987\n",
       "1997-01-08  6.502192  0.133937"
      ]
     },
     "execution_count": 7,
     "metadata": {},
     "output_type": "execute_result"
    }
   ],
   "source": [
    "sec_data.head()"
   ]
  },
  {
   "cell_type": "code",
   "execution_count": 8,
   "id": "490377b8",
   "metadata": {},
   "outputs": [
    {
     "data": {
      "text/html": [
       "<div>\n",
       "<style scoped>\n",
       "    .dataframe tbody tr th:only-of-type {\n",
       "        vertical-align: middle;\n",
       "    }\n",
       "\n",
       "    .dataframe tbody tr th {\n",
       "        vertical-align: top;\n",
       "    }\n",
       "\n",
       "    .dataframe thead th {\n",
       "        text-align: right;\n",
       "    }\n",
       "</style>\n",
       "<table border=\"1\" class=\"dataframe\">\n",
       "  <thead>\n",
       "    <tr style=\"text-align: right;\">\n",
       "      <th></th>\n",
       "      <th>MSFT</th>\n",
       "      <th>AAPL</th>\n",
       "    </tr>\n",
       "    <tr>\n",
       "      <th>Date</th>\n",
       "      <th></th>\n",
       "      <th></th>\n",
       "    </tr>\n",
       "  </thead>\n",
       "  <tbody>\n",
       "    <tr>\n",
       "      <th>1997-01-02</th>\n",
       "      <td>NaN</td>\n",
       "      <td>NaN</td>\n",
       "    </tr>\n",
       "    <tr>\n",
       "      <th>1997-01-03</th>\n",
       "      <td>0.036753</td>\n",
       "      <td>0.035712</td>\n",
       "    </tr>\n",
       "    <tr>\n",
       "      <th>1997-01-06</th>\n",
       "      <td>-0.002954</td>\n",
       "      <td>-0.178160</td>\n",
       "    </tr>\n",
       "    <tr>\n",
       "      <th>1997-01-07</th>\n",
       "      <td>0.007407</td>\n",
       "      <td>-0.020978</td>\n",
       "    </tr>\n",
       "    <tr>\n",
       "      <th>1997-01-08</th>\n",
       "      <td>-0.019117</td>\n",
       "      <td>0.007142</td>\n",
       "    </tr>\n",
       "    <tr>\n",
       "      <th>...</th>\n",
       "      <td>...</td>\n",
       "      <td>...</td>\n",
       "    </tr>\n",
       "    <tr>\n",
       "      <th>2023-02-17</th>\n",
       "      <td>-0.015602</td>\n",
       "      <td>-0.007547</td>\n",
       "    </tr>\n",
       "    <tr>\n",
       "      <th>2023-02-21</th>\n",
       "      <td>-0.020887</td>\n",
       "      <td>-0.026680</td>\n",
       "    </tr>\n",
       "    <tr>\n",
       "      <th>2023-02-22</th>\n",
       "      <td>-0.004591</td>\n",
       "      <td>0.002896</td>\n",
       "    </tr>\n",
       "    <tr>\n",
       "      <th>2023-02-23</th>\n",
       "      <td>0.012962</td>\n",
       "      <td>0.003291</td>\n",
       "    </tr>\n",
       "    <tr>\n",
       "      <th>2023-02-24</th>\n",
       "      <td>-0.023518</td>\n",
       "      <td>-0.021181</td>\n",
       "    </tr>\n",
       "  </tbody>\n",
       "</table>\n",
       "<p>6581 rows × 2 columns</p>\n",
       "</div>"
      ],
      "text/plain": [
       "                MSFT      AAPL\n",
       "Date                          \n",
       "1997-01-02       NaN       NaN\n",
       "1997-01-03  0.036753  0.035712\n",
       "1997-01-06 -0.002954 -0.178160\n",
       "1997-01-07  0.007407 -0.020978\n",
       "1997-01-08 -0.019117  0.007142\n",
       "...              ...       ...\n",
       "2023-02-17 -0.015602 -0.007547\n",
       "2023-02-21 -0.020887 -0.026680\n",
       "2023-02-22 -0.004591  0.002896\n",
       "2023-02-23  0.012962  0.003291\n",
       "2023-02-24 -0.023518 -0.021181\n",
       "\n",
       "[6581 rows x 2 columns]"
      ]
     },
     "execution_count": 8,
     "metadata": {},
     "output_type": "execute_result"
    }
   ],
   "source": [
    "sec_returns=(sec_data/sec_data.shift(1))-1\n",
    "sec_returns"
   ]
  },
  {
   "cell_type": "code",
   "execution_count": 9,
   "id": "58af19ec",
   "metadata": {},
   "outputs": [
    {
     "data": {
      "text/html": [
       "<div>\n",
       "<style scoped>\n",
       "    .dataframe tbody tr th:only-of-type {\n",
       "        vertical-align: middle;\n",
       "    }\n",
       "\n",
       "    .dataframe tbody tr th {\n",
       "        vertical-align: top;\n",
       "    }\n",
       "\n",
       "    .dataframe thead th {\n",
       "        text-align: right;\n",
       "    }\n",
       "</style>\n",
       "<table border=\"1\" class=\"dataframe\">\n",
       "  <thead>\n",
       "    <tr style=\"text-align: right;\">\n",
       "      <th></th>\n",
       "      <th>MSFT</th>\n",
       "      <th>AAPL</th>\n",
       "    </tr>\n",
       "    <tr>\n",
       "      <th>Date</th>\n",
       "      <th></th>\n",
       "      <th></th>\n",
       "    </tr>\n",
       "  </thead>\n",
       "  <tbody>\n",
       "    <tr>\n",
       "      <th>1997-01-03</th>\n",
       "      <td>0.036753</td>\n",
       "      <td>0.035712</td>\n",
       "    </tr>\n",
       "    <tr>\n",
       "      <th>1997-01-06</th>\n",
       "      <td>-0.002954</td>\n",
       "      <td>-0.178160</td>\n",
       "    </tr>\n",
       "    <tr>\n",
       "      <th>1997-01-07</th>\n",
       "      <td>0.007407</td>\n",
       "      <td>-0.020978</td>\n",
       "    </tr>\n",
       "    <tr>\n",
       "      <th>1997-01-08</th>\n",
       "      <td>-0.019117</td>\n",
       "      <td>0.007142</td>\n",
       "    </tr>\n",
       "    <tr>\n",
       "      <th>1997-01-09</th>\n",
       "      <td>-0.011994</td>\n",
       "      <td>0.007092</td>\n",
       "    </tr>\n",
       "    <tr>\n",
       "      <th>...</th>\n",
       "      <td>...</td>\n",
       "      <td>...</td>\n",
       "    </tr>\n",
       "    <tr>\n",
       "      <th>2023-02-17</th>\n",
       "      <td>-0.015602</td>\n",
       "      <td>-0.007547</td>\n",
       "    </tr>\n",
       "    <tr>\n",
       "      <th>2023-02-21</th>\n",
       "      <td>-0.020887</td>\n",
       "      <td>-0.026680</td>\n",
       "    </tr>\n",
       "    <tr>\n",
       "      <th>2023-02-22</th>\n",
       "      <td>-0.004591</td>\n",
       "      <td>0.002896</td>\n",
       "    </tr>\n",
       "    <tr>\n",
       "      <th>2023-02-23</th>\n",
       "      <td>0.012962</td>\n",
       "      <td>0.003291</td>\n",
       "    </tr>\n",
       "    <tr>\n",
       "      <th>2023-02-24</th>\n",
       "      <td>-0.023518</td>\n",
       "      <td>-0.021181</td>\n",
       "    </tr>\n",
       "  </tbody>\n",
       "</table>\n",
       "<p>6580 rows × 2 columns</p>\n",
       "</div>"
      ],
      "text/plain": [
       "                MSFT      AAPL\n",
       "Date                          \n",
       "1997-01-03  0.036753  0.035712\n",
       "1997-01-06 -0.002954 -0.178160\n",
       "1997-01-07  0.007407 -0.020978\n",
       "1997-01-08 -0.019117  0.007142\n",
       "1997-01-09 -0.011994  0.007092\n",
       "...              ...       ...\n",
       "2023-02-17 -0.015602 -0.007547\n",
       "2023-02-21 -0.020887 -0.026680\n",
       "2023-02-22 -0.004591  0.002896\n",
       "2023-02-23  0.012962  0.003291\n",
       "2023-02-24 -0.023518 -0.021181\n",
       "\n",
       "[6580 rows x 2 columns]"
      ]
     },
     "execution_count": 9,
     "metadata": {},
     "output_type": "execute_result"
    }
   ],
   "source": [
    "sec_returns=sec_returns.dropna()\n",
    "sec_returns"
   ]
  },
  {
   "cell_type": "code",
   "execution_count": 10,
   "id": "a17cc3ad",
   "metadata": {},
   "outputs": [
    {
     "data": {
      "text/plain": [
       "MSFT    0.000754\n",
       "AAPL    0.001413\n",
       "dtype: float64"
      ]
     },
     "execution_count": 10,
     "metadata": {},
     "output_type": "execute_result"
    }
   ],
   "source": [
    "sec_returns.mean()"
   ]
  },
  {
   "cell_type": "code",
   "execution_count": 11,
   "id": "99ebc96d",
   "metadata": {},
   "outputs": [
    {
     "data": {
      "text/plain": [
       "MSFT    0.019859\n",
       "AAPL    0.027066\n",
       "dtype: float64"
      ]
     },
     "execution_count": 11,
     "metadata": {},
     "output_type": "execute_result"
    }
   ],
   "source": [
    "sec_returns.std()"
   ]
  },
  {
   "cell_type": "code",
   "execution_count": 12,
   "id": "abc6f920",
   "metadata": {},
   "outputs": [
    {
     "data": {
      "text/plain": [
       "Ttest_1sampResult(statistic=3.080308605597323, pvalue=0.0020763961470224653)"
      ]
     },
     "execution_count": 12,
     "metadata": {},
     "output_type": "execute_result"
    }
   ],
   "source": [
    "#for large samples, t-test and z-test give same results, if sample < 30, t-test is better\n",
    "sst.ttest_1samp(a=sec_returns['MSFT'], popmean=0)"
   ]
  },
  {
   "cell_type": "markdown",
   "id": "2cf75f1d",
   "metadata": {},
   "source": [
    "5% confidence interval, CV=1.96\n",
    "test statistic = 3.08\n",
    "test statistic > CV, reject null hypothesis that Microsoft average daily return is 0. \n",
    "if pvalue is less than 5%, also reject the null hypothesis"
   ]
  },
  {
   "cell_type": "code",
   "execution_count": 13,
   "id": "d7d7bae3",
   "metadata": {},
   "outputs": [
    {
     "data": {
      "text/plain": [
       "Ttest_1sampResult(statistic=1.9740440383834499, pvalue=0.04841850246328851)"
      ]
     },
     "execution_count": 13,
     "metadata": {},
     "output_type": "execute_result"
    }
   ],
   "source": [
    "sst.ttest_1samp(a=sec_returns['AAPL'], popmean=0.000754)"
   ]
  },
  {
   "cell_type": "code",
   "execution_count": 14,
   "id": "0725140c",
   "metadata": {},
   "outputs": [
    {
     "data": {
      "text/plain": [
       "Ttest_indResult(statistic=-1.5912539880189944, pvalue=0.11157861310464375)"
      ]
     },
     "execution_count": 14,
     "metadata": {},
     "output_type": "execute_result"
    }
   ],
   "source": [
    "#Null hypothesis: MSFT return is the same as AAPL return\n",
    "sst.ttest_ind(a=sec_returns['MSFT'],b=sec_returns['AAPL'],equal_var=False)"
   ]
  },
  {
   "cell_type": "code",
   "execution_count": 15,
   "id": "edfca3ed",
   "metadata": {},
   "outputs": [
    {
     "data": {
      "text/plain": [
       "Ttest_relResult(statistic=-2.094420189514634, pvalue=0.03626072586912278)"
      ]
     },
     "execution_count": 15,
     "metadata": {},
     "output_type": "execute_result"
    }
   ],
   "source": [
    "sst.ttest_rel(a=sec_returns['MSFT'],b=sec_returns['AAPL'])"
   ]
  },
  {
   "cell_type": "code",
   "execution_count": 16,
   "id": "5b4160cc",
   "metadata": {},
   "outputs": [],
   "source": [
    "#testing a single variance\n",
    "hyp_std=0.02 #std under the null, denominator"
   ]
  },
  {
   "cell_type": "code",
   "execution_count": 17,
   "id": "64f538ac",
   "metadata": {},
   "outputs": [],
   "source": [
    "df_MSFT=sec_returns['MSFT'].count()-1"
   ]
  },
  {
   "cell_type": "code",
   "execution_count": 18,
   "id": "a469b9a7",
   "metadata": {},
   "outputs": [],
   "source": [
    "MSFT_std=sec_returns['MSFT'].std()"
   ]
  },
  {
   "cell_type": "code",
   "execution_count": 19,
   "id": "76732bae",
   "metadata": {},
   "outputs": [
    {
     "data": {
      "text/plain": [
       "6486.845304224805"
      ]
     },
     "execution_count": 19,
     "metadata": {},
     "output_type": "execute_result"
    }
   ],
   "source": [
    "chi_squared_stat=df_MSFT*MSFT_std**2/hyp_std**2\n",
    "chi_squared_stat"
   ]
  },
  {
   "cell_type": "code",
   "execution_count": 20,
   "id": "09cbe52d",
   "metadata": {},
   "outputs": [
    {
     "data": {
      "text/plain": [
       "6768.808573865782"
      ]
     },
     "execution_count": 20,
     "metadata": {},
     "output_type": "execute_result"
    }
   ],
   "source": [
    "critical_value=sst.chi2.ppf(q=0.95, df=df_MSFT)\n",
    "critical_value"
   ]
  },
  {
   "cell_type": "markdown",
   "id": "34cfcf46",
   "metadata": {},
   "source": [
    "chi_squared_stat < critical_value, accept the null hypothesis\n",
    "MSFT variance is less than 0.02^2\n",
    "\n",
    "What is the null we're accepting?"
   ]
  },
  {
   "cell_type": "code",
   "execution_count": 21,
   "id": "9ad1cb8c",
   "metadata": {},
   "outputs": [
    {
     "data": {
      "text/plain": [
       "1.8574819380088639"
      ]
     },
     "execution_count": 21,
     "metadata": {},
     "output_type": "execute_result"
    }
   ],
   "source": [
    "#Finding the higher variance ratio\n",
    "F_stat=max(sec_returns['MSFT'].var()/sec_returns['AAPL'].var(), \n",
    "          sec_returns['AAPL'].var()/sec_returns['MSFT'].var())\n",
    "F_stat"
   ]
  },
  {
   "cell_type": "code",
   "execution_count": 22,
   "id": "4b972e4c",
   "metadata": {},
   "outputs": [
    {
     "data": {
      "text/plain": [
       "1.0413948369714034"
      ]
     },
     "execution_count": 22,
     "metadata": {},
     "output_type": "execute_result"
    }
   ],
   "source": [
    "CV = sst.f.ppf(0.95, dfn=sec_returns['MSFT'].count()-1, dfd=sec_returns['AAPL'].count()-1)\n",
    "CV"
   ]
  },
  {
   "cell_type": "code",
   "execution_count": 23,
   "id": "335f9ed1",
   "metadata": {},
   "outputs": [],
   "source": [
    "#Pearson correlation test\n",
    "#implies correlation=0"
   ]
  },
  {
   "cell_type": "code",
   "execution_count": 24,
   "id": "6bdd430b",
   "metadata": {},
   "outputs": [
    {
     "data": {
      "text/plain": [
       "PearsonRResult(statistic=0.44319205697837205, pvalue=9.732206375e-315)"
      ]
     },
     "execution_count": 24,
     "metadata": {},
     "output_type": "execute_result"
    }
   ],
   "source": [
    "sst.pearsonr(sec_returns['MSFT'],sec_returns['AAPL'])\n",
    "#(correlation coefficient(0-1), p-value from hypothesis test)"
   ]
  },
  {
   "cell_type": "code",
   "execution_count": 25,
   "id": "588ee92f",
   "metadata": {},
   "outputs": [],
   "source": [
    "#p-value is smaller than 5% and cv<f-stat, reject the null hypothesis\n",
    "#Correlation is not 0"
   ]
  },
  {
   "cell_type": "code",
   "execution_count": 26,
   "id": "3b5cbbce",
   "metadata": {},
   "outputs": [
    {
     "data": {
      "text/plain": [
       "SpearmanrResult(correlation=0.48068938501799785, pvalue=0.0)"
      ]
     },
     "execution_count": 26,
     "metadata": {},
     "output_type": "execute_result"
    }
   ],
   "source": [
    "sst.spearmanr(sec_returns)"
   ]
  },
  {
   "cell_type": "code",
   "execution_count": 27,
   "id": "fb3a457c",
   "metadata": {},
   "outputs": [],
   "source": [
    "#Spearman uses a ranking order rather than numerical order, not influenced by outliers.\n",
    "#Check if results are driven by crisis periods, or outliers"
   ]
  }
 ],
 "metadata": {
  "kernelspec": {
   "display_name": "Python 3 (ipykernel)",
   "language": "python",
   "name": "python3"
  },
  "language_info": {
   "codemirror_mode": {
    "name": "ipython",
    "version": 3
   },
   "file_extension": ".py",
   "mimetype": "text/x-python",
   "name": "python",
   "nbconvert_exporter": "python",
   "pygments_lexer": "ipython3",
   "version": "3.9.13"
  }
 },
 "nbformat": 4,
 "nbformat_minor": 5
}
