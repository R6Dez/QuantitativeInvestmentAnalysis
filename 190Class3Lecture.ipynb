{
 "cells": [
  {
   "cell_type": "code",
   "execution_count": 1,
   "id": "cdc8f3a1",
   "metadata": {},
   "outputs": [],
   "source": [
    "import pandas as pd\n",
    "from pandas_datareader import data as pdr\n",
    "import yfinance as yf\n",
    "yf.pdr_override()"
   ]
  },
  {
   "cell_type": "code",
   "execution_count": 2,
   "id": "e80940c2",
   "metadata": {},
   "outputs": [],
   "source": [
    "import numpy as np"
   ]
  },
  {
   "cell_type": "code",
   "execution_count": 3,
   "id": "58061e25",
   "metadata": {},
   "outputs": [
    {
     "name": "stdout",
     "output_type": "stream",
     "text": [
      "[*********************100%***********************]  1 of 1 completed\n",
      "[*********************100%***********************]  1 of 1 completed\n",
      "[*********************100%***********************]  1 of 1 completed\n"
     ]
    }
   ],
   "source": [
    "tickers=['MSFT','AAPL','SPY']\n",
    "\n",
    "sec_data=pd.DataFrame()\n",
    "\n",
    "for t in tickers:\n",
    "    sec_data[t]=pdr.get_data_yahoo(t, start='1997-1-1')['Adj Close']"
   ]
  },
  {
   "cell_type": "code",
   "execution_count": 4,
   "id": "e370d089",
   "metadata": {},
   "outputs": [
    {
     "data": {
      "text/html": [
       "<div>\n",
       "<style scoped>\n",
       "    .dataframe tbody tr th:only-of-type {\n",
       "        vertical-align: middle;\n",
       "    }\n",
       "\n",
       "    .dataframe tbody tr th {\n",
       "        vertical-align: top;\n",
       "    }\n",
       "\n",
       "    .dataframe thead th {\n",
       "        text-align: right;\n",
       "    }\n",
       "</style>\n",
       "<table border=\"1\" class=\"dataframe\">\n",
       "  <thead>\n",
       "    <tr style=\"text-align: right;\">\n",
       "      <th></th>\n",
       "      <th>MSFT</th>\n",
       "      <th>AAPL</th>\n",
       "      <th>SPY</th>\n",
       "    </tr>\n",
       "    <tr>\n",
       "      <th>Date</th>\n",
       "      <th></th>\n",
       "      <th></th>\n",
       "      <th></th>\n",
       "    </tr>\n",
       "  </thead>\n",
       "  <tbody>\n",
       "    <tr>\n",
       "      <th>1997-01-02</th>\n",
       "      <td>6.381656</td>\n",
       "      <td>0.159828</td>\n",
       "      <td>46.662094</td>\n",
       "    </tr>\n",
       "    <tr>\n",
       "      <th>1997-01-03</th>\n",
       "      <td>6.616204</td>\n",
       "      <td>0.165536</td>\n",
       "      <td>47.331795</td>\n",
       "    </tr>\n",
       "    <tr>\n",
       "      <th>1997-01-06</th>\n",
       "      <td>6.596661</td>\n",
       "      <td>0.136044</td>\n",
       "      <td>46.918159</td>\n",
       "    </tr>\n",
       "    <tr>\n",
       "      <th>1997-01-07</th>\n",
       "      <td>6.645521</td>\n",
       "      <td>0.133190</td>\n",
       "      <td>47.489365</td>\n",
       "    </tr>\n",
       "    <tr>\n",
       "      <th>1997-01-08</th>\n",
       "      <td>6.518477</td>\n",
       "      <td>0.134142</td>\n",
       "      <td>47.075737</td>\n",
       "    </tr>\n",
       "  </tbody>\n",
       "</table>\n",
       "</div>"
      ],
      "text/plain": [
       "                MSFT      AAPL        SPY\n",
       "Date                                     \n",
       "1997-01-02  6.381656  0.159828  46.662094\n",
       "1997-01-03  6.616204  0.165536  47.331795\n",
       "1997-01-06  6.596661  0.136044  46.918159\n",
       "1997-01-07  6.645521  0.133190  47.489365\n",
       "1997-01-08  6.518477  0.134142  47.075737"
      ]
     },
     "execution_count": 4,
     "metadata": {},
     "output_type": "execute_result"
    }
   ],
   "source": [
    "sec_data.head()"
   ]
  },
  {
   "cell_type": "code",
   "execution_count": 5,
   "id": "f33ab76e",
   "metadata": {},
   "outputs": [
    {
     "data": {
      "text/html": [
       "<div>\n",
       "<style scoped>\n",
       "    .dataframe tbody tr th:only-of-type {\n",
       "        vertical-align: middle;\n",
       "    }\n",
       "\n",
       "    .dataframe tbody tr th {\n",
       "        vertical-align: top;\n",
       "    }\n",
       "\n",
       "    .dataframe thead th {\n",
       "        text-align: right;\n",
       "    }\n",
       "</style>\n",
       "<table border=\"1\" class=\"dataframe\">\n",
       "  <thead>\n",
       "    <tr style=\"text-align: right;\">\n",
       "      <th></th>\n",
       "      <th>MSFT</th>\n",
       "      <th>AAPL</th>\n",
       "      <th>SPY</th>\n",
       "    </tr>\n",
       "    <tr>\n",
       "      <th>Date</th>\n",
       "      <th></th>\n",
       "      <th></th>\n",
       "      <th></th>\n",
       "    </tr>\n",
       "  </thead>\n",
       "  <tbody>\n",
       "    <tr>\n",
       "      <th>2023-01-23</th>\n",
       "      <td>242.580002</td>\n",
       "      <td>141.110001</td>\n",
       "      <td>400.630005</td>\n",
       "    </tr>\n",
       "    <tr>\n",
       "      <th>2023-01-24</th>\n",
       "      <td>242.039993</td>\n",
       "      <td>142.529999</td>\n",
       "      <td>400.200012</td>\n",
       "    </tr>\n",
       "    <tr>\n",
       "      <th>2023-01-25</th>\n",
       "      <td>240.610001</td>\n",
       "      <td>141.860001</td>\n",
       "      <td>400.350006</td>\n",
       "    </tr>\n",
       "    <tr>\n",
       "      <th>2023-01-26</th>\n",
       "      <td>248.000000</td>\n",
       "      <td>143.960007</td>\n",
       "      <td>404.750000</td>\n",
       "    </tr>\n",
       "    <tr>\n",
       "      <th>2023-01-27</th>\n",
       "      <td>248.250000</td>\n",
       "      <td>146.389999</td>\n",
       "      <td>406.359985</td>\n",
       "    </tr>\n",
       "  </tbody>\n",
       "</table>\n",
       "</div>"
      ],
      "text/plain": [
       "                  MSFT        AAPL         SPY\n",
       "Date                                          \n",
       "2023-01-23  242.580002  141.110001  400.630005\n",
       "2023-01-24  242.039993  142.529999  400.200012\n",
       "2023-01-25  240.610001  141.860001  400.350006\n",
       "2023-01-26  248.000000  143.960007  404.750000\n",
       "2023-01-27  248.250000  146.389999  406.359985"
      ]
     },
     "execution_count": 5,
     "metadata": {},
     "output_type": "execute_result"
    }
   ],
   "source": [
    "sec_data.tail()"
   ]
  },
  {
   "cell_type": "code",
   "execution_count": 6,
   "id": "e5513aeb",
   "metadata": {},
   "outputs": [
    {
     "name": "stdout",
     "output_type": "stream",
     "text": [
      "<class 'pandas.core.frame.DataFrame'>\n",
      "DatetimeIndex: 6562 entries, 1997-01-02 to 2023-01-27\n",
      "Data columns (total 3 columns):\n",
      " #   Column  Non-Null Count  Dtype  \n",
      "---  ------  --------------  -----  \n",
      " 0   MSFT    6562 non-null   float64\n",
      " 1   AAPL    6562 non-null   float64\n",
      " 2   SPY     6562 non-null   float64\n",
      "dtypes: float64(3)\n",
      "memory usage: 205.1 KB\n"
     ]
    }
   ],
   "source": [
    "sec_data.info()"
   ]
  },
  {
   "cell_type": "code",
   "execution_count": 7,
   "id": "808d3ce5",
   "metadata": {},
   "outputs": [
    {
     "data": {
      "text/html": [
       "<div>\n",
       "<style scoped>\n",
       "    .dataframe tbody tr th:only-of-type {\n",
       "        vertical-align: middle;\n",
       "    }\n",
       "\n",
       "    .dataframe tbody tr th {\n",
       "        vertical-align: top;\n",
       "    }\n",
       "\n",
       "    .dataframe thead th {\n",
       "        text-align: right;\n",
       "    }\n",
       "</style>\n",
       "<table border=\"1\" class=\"dataframe\">\n",
       "  <thead>\n",
       "    <tr style=\"text-align: right;\">\n",
       "      <th></th>\n",
       "      <th>MSFT</th>\n",
       "      <th>AAPL</th>\n",
       "      <th>SPY</th>\n",
       "    </tr>\n",
       "    <tr>\n",
       "      <th>Date</th>\n",
       "      <th></th>\n",
       "      <th></th>\n",
       "      <th></th>\n",
       "    </tr>\n",
       "  </thead>\n",
       "  <tbody>\n",
       "    <tr>\n",
       "      <th>1997-01-02</th>\n",
       "      <td>NaN</td>\n",
       "      <td>NaN</td>\n",
       "      <td>NaN</td>\n",
       "    </tr>\n",
       "    <tr>\n",
       "      <th>1997-01-03</th>\n",
       "      <td>0.036753</td>\n",
       "      <td>0.035712</td>\n",
       "      <td>0.014352</td>\n",
       "    </tr>\n",
       "    <tr>\n",
       "      <th>1997-01-06</th>\n",
       "      <td>-0.002954</td>\n",
       "      <td>-0.178160</td>\n",
       "      <td>-0.008739</td>\n",
       "    </tr>\n",
       "    <tr>\n",
       "      <th>1997-01-07</th>\n",
       "      <td>0.007407</td>\n",
       "      <td>-0.020978</td>\n",
       "      <td>0.012175</td>\n",
       "    </tr>\n",
       "    <tr>\n",
       "      <th>1997-01-08</th>\n",
       "      <td>-0.019117</td>\n",
       "      <td>0.007143</td>\n",
       "      <td>-0.008710</td>\n",
       "    </tr>\n",
       "    <tr>\n",
       "      <th>...</th>\n",
       "      <td>...</td>\n",
       "      <td>...</td>\n",
       "      <td>...</td>\n",
       "    </tr>\n",
       "    <tr>\n",
       "      <th>2023-01-23</th>\n",
       "      <td>0.009824</td>\n",
       "      <td>0.023500</td>\n",
       "      <td>0.011999</td>\n",
       "    </tr>\n",
       "    <tr>\n",
       "      <th>2023-01-24</th>\n",
       "      <td>-0.002226</td>\n",
       "      <td>0.010063</td>\n",
       "      <td>-0.001073</td>\n",
       "    </tr>\n",
       "    <tr>\n",
       "      <th>2023-01-25</th>\n",
       "      <td>-0.005908</td>\n",
       "      <td>-0.004701</td>\n",
       "      <td>0.000375</td>\n",
       "    </tr>\n",
       "    <tr>\n",
       "      <th>2023-01-26</th>\n",
       "      <td>0.030714</td>\n",
       "      <td>0.014803</td>\n",
       "      <td>0.010990</td>\n",
       "    </tr>\n",
       "    <tr>\n",
       "      <th>2023-01-27</th>\n",
       "      <td>0.001008</td>\n",
       "      <td>0.016880</td>\n",
       "      <td>0.003978</td>\n",
       "    </tr>\n",
       "  </tbody>\n",
       "</table>\n",
       "<p>6562 rows × 3 columns</p>\n",
       "</div>"
      ],
      "text/plain": [
       "                MSFT      AAPL       SPY\n",
       "Date                                    \n",
       "1997-01-02       NaN       NaN       NaN\n",
       "1997-01-03  0.036753  0.035712  0.014352\n",
       "1997-01-06 -0.002954 -0.178160 -0.008739\n",
       "1997-01-07  0.007407 -0.020978  0.012175\n",
       "1997-01-08 -0.019117  0.007143 -0.008710\n",
       "...              ...       ...       ...\n",
       "2023-01-23  0.009824  0.023500  0.011999\n",
       "2023-01-24 -0.002226  0.010063 -0.001073\n",
       "2023-01-25 -0.005908 -0.004701  0.000375\n",
       "2023-01-26  0.030714  0.014803  0.010990\n",
       "2023-01-27  0.001008  0.016880  0.003978\n",
       "\n",
       "[6562 rows x 3 columns]"
      ]
     },
     "execution_count": 7,
     "metadata": {},
     "output_type": "execute_result"
    }
   ],
   "source": [
    "#.shift(n) shifts data n spaces back\n",
    "sec_returns=(sec_data/sec_data.shift(1)) - 1\n",
    "sec_returns"
   ]
  },
  {
   "cell_type": "code",
   "execution_count": 9,
   "id": "16eef3c1",
   "metadata": {},
   "outputs": [
    {
     "data": {
      "text/plain": [
       "MSFT    0.000755\n",
       "AAPL    0.001416\n",
       "SPY     0.000408\n",
       "dtype: float64"
      ]
     },
     "execution_count": 9,
     "metadata": {},
     "output_type": "execute_result"
    }
   ],
   "source": [
    "sec_returns[['MSFT','AAPL','SPY']].mean()"
   ]
  },
  {
   "cell_type": "code",
   "execution_count": 10,
   "id": "e00f90d9",
   "metadata": {},
   "outputs": [
    {
     "data": {
      "text/plain": [
       "MSFT    0.188729\n",
       "AAPL    0.354072\n",
       "SPY     0.102121\n",
       "dtype: float64"
      ]
     },
     "execution_count": 10,
     "metadata": {},
     "output_type": "execute_result"
    }
   ],
   "source": [
    "#multiply by 250 to get yearly\n",
    "sec_returns[['MSFT','AAPL','SPY']].mean()*250"
   ]
  },
  {
   "cell_type": "code",
   "execution_count": 11,
   "id": "c7f73f4f",
   "metadata": {},
   "outputs": [
    {
     "data": {
      "text/plain": [
       "MSFT    0.000394\n",
       "AAPL    0.000734\n",
       "SPY     0.000157\n",
       "dtype: float64"
      ]
     },
     "execution_count": 11,
     "metadata": {},
     "output_type": "execute_result"
    }
   ],
   "source": [
    "sec_returns[['MSFT','AAPL','SPY']].var()"
   ]
  },
  {
   "cell_type": "code",
   "execution_count": 12,
   "id": "491e1b8a",
   "metadata": {},
   "outputs": [
    {
     "data": {
      "text/plain": [
       "MSFT    0.098534\n",
       "AAPL    0.183470\n",
       "SPY     0.039246\n",
       "dtype: float64"
      ]
     },
     "execution_count": 12,
     "metadata": {},
     "output_type": "execute_result"
    }
   ],
   "source": [
    "sec_returns[['MSFT','AAPL','SPY']].var()*250"
   ]
  },
  {
   "cell_type": "code",
   "execution_count": 13,
   "id": "6ed20bd3",
   "metadata": {},
   "outputs": [
    {
     "data": {
      "text/plain": [
       "MSFT    0.019853\n",
       "AAPL    0.027090\n",
       "SPY     0.012529\n",
       "dtype: float64"
      ]
     },
     "execution_count": 13,
     "metadata": {},
     "output_type": "execute_result"
    }
   ],
   "source": [
    "sec_returns[['MSFT','AAPL','SPY']].std()"
   ]
  },
  {
   "cell_type": "code",
   "execution_count": 14,
   "id": "54a95b68",
   "metadata": {},
   "outputs": [
    {
     "data": {
      "text/plain": [
       "MSFT    0.313901\n",
       "AAPL    0.428334\n",
       "SPY     0.198107\n",
       "dtype: float64"
      ]
     },
     "execution_count": 14,
     "metadata": {},
     "output_type": "execute_result"
    }
   ],
   "source": [
    "#yearly returns for std need to be square rooted as well\n",
    "sec_returns[['MSFT','AAPL','SPY']].std()*250**0.5"
   ]
  },
  {
   "cell_type": "code",
   "execution_count": 15,
   "id": "1940e4a3",
   "metadata": {},
   "outputs": [
    {
     "data": {
      "text/html": [
       "<div>\n",
       "<style scoped>\n",
       "    .dataframe tbody tr th:only-of-type {\n",
       "        vertical-align: middle;\n",
       "    }\n",
       "\n",
       "    .dataframe tbody tr th {\n",
       "        vertical-align: top;\n",
       "    }\n",
       "\n",
       "    .dataframe thead th {\n",
       "        text-align: right;\n",
       "    }\n",
       "</style>\n",
       "<table border=\"1\" class=\"dataframe\">\n",
       "  <thead>\n",
       "    <tr style=\"text-align: right;\">\n",
       "      <th></th>\n",
       "      <th>MSFT</th>\n",
       "      <th>AAPL</th>\n",
       "      <th>SPY</th>\n",
       "    </tr>\n",
       "  </thead>\n",
       "  <tbody>\n",
       "    <tr>\n",
       "      <th>MSFT</th>\n",
       "      <td>0.000394</td>\n",
       "      <td>0.000238</td>\n",
       "      <td>0.000172</td>\n",
       "    </tr>\n",
       "    <tr>\n",
       "      <th>AAPL</th>\n",
       "      <td>0.000238</td>\n",
       "      <td>0.000734</td>\n",
       "      <td>0.000175</td>\n",
       "    </tr>\n",
       "    <tr>\n",
       "      <th>SPY</th>\n",
       "      <td>0.000172</td>\n",
       "      <td>0.000175</td>\n",
       "      <td>0.000157</td>\n",
       "    </tr>\n",
       "  </tbody>\n",
       "</table>\n",
       "</div>"
      ],
      "text/plain": [
       "          MSFT      AAPL       SPY\n",
       "MSFT  0.000394  0.000238  0.000172\n",
       "AAPL  0.000238  0.000734  0.000175\n",
       "SPY   0.000172  0.000175  0.000157"
      ]
     },
     "execution_count": 15,
     "metadata": {},
     "output_type": "execute_result"
    }
   ],
   "source": [
    "sec_returns.cov()"
   ]
  },
  {
   "cell_type": "code",
   "execution_count": 16,
   "id": "dbaa9f07",
   "metadata": {},
   "outputs": [
    {
     "data": {
      "text/html": [
       "<div>\n",
       "<style scoped>\n",
       "    .dataframe tbody tr th:only-of-type {\n",
       "        vertical-align: middle;\n",
       "    }\n",
       "\n",
       "    .dataframe tbody tr th {\n",
       "        vertical-align: top;\n",
       "    }\n",
       "\n",
       "    .dataframe thead th {\n",
       "        text-align: right;\n",
       "    }\n",
       "</style>\n",
       "<table border=\"1\" class=\"dataframe\">\n",
       "  <thead>\n",
       "    <tr style=\"text-align: right;\">\n",
       "      <th></th>\n",
       "      <th>MSFT</th>\n",
       "      <th>AAPL</th>\n",
       "      <th>SPY</th>\n",
       "    </tr>\n",
       "  </thead>\n",
       "  <tbody>\n",
       "    <tr>\n",
       "      <th>MSFT</th>\n",
       "      <td>1.000000</td>\n",
       "      <td>0.442830</td>\n",
       "      <td>0.690301</td>\n",
       "    </tr>\n",
       "    <tr>\n",
       "      <th>AAPL</th>\n",
       "      <td>0.442830</td>\n",
       "      <td>1.000000</td>\n",
       "      <td>0.515313</td>\n",
       "    </tr>\n",
       "    <tr>\n",
       "      <th>SPY</th>\n",
       "      <td>0.690301</td>\n",
       "      <td>0.515313</td>\n",
       "      <td>1.000000</td>\n",
       "    </tr>\n",
       "  </tbody>\n",
       "</table>\n",
       "</div>"
      ],
      "text/plain": [
       "          MSFT      AAPL       SPY\n",
       "MSFT  1.000000  0.442830  0.690301\n",
       "AAPL  0.442830  1.000000  0.515313\n",
       "SPY   0.690301  0.515313  1.000000"
      ]
     },
     "execution_count": 16,
     "metadata": {},
     "output_type": "execute_result"
    }
   ],
   "source": [
    "sec_returns.corr()"
   ]
  },
  {
   "cell_type": "code",
   "execution_count": 17,
   "id": "4257824b",
   "metadata": {},
   "outputs": [],
   "source": [
    "#np.array is an array constructor\n",
    "weights=np.array([.4,.4,.2])"
   ]
  },
  {
   "cell_type": "code",
   "execution_count": 19,
   "id": "fae5faed",
   "metadata": {},
   "outputs": [],
   "source": [
    "#.dot() returns dot product, returns summed sec_returns*weights\n",
    "pfolio_ret=np.dot(sec_returns,weights)"
   ]
  },
  {
   "cell_type": "code",
   "execution_count": 20,
   "id": "be358784",
   "metadata": {},
   "outputs": [
    {
     "data": {
      "text/plain": [
       "array([        nan,  0.03185661, -0.07419336, ..., -0.00416858,\n",
       "        0.02040486,  0.00795063])"
      ]
     },
     "execution_count": 20,
     "metadata": {},
     "output_type": "execute_result"
    }
   ],
   "source": [
    "pfolio_ret"
   ]
  },
  {
   "cell_type": "code",
   "execution_count": 24,
   "id": "e1ad2d63",
   "metadata": {},
   "outputs": [],
   "source": [
    "pfolio_ret=pfolio_ret[~np.isnan(pfolio_ret)]"
   ]
  },
  {
   "cell_type": "code",
   "execution_count": 25,
   "id": "3bc1a2f2",
   "metadata": {},
   "outputs": [
    {
     "data": {
      "text/plain": [
       "array([ 0.03185661, -0.07419336, -0.00299363, ..., -0.00416858,\n",
       "        0.02040486,  0.00795063])"
      ]
     },
     "execution_count": 25,
     "metadata": {},
     "output_type": "execute_result"
    }
   ],
   "source": [
    "pfolio_ret"
   ]
  },
  {
   "cell_type": "code",
   "execution_count": 26,
   "id": "47ab2236",
   "metadata": {},
   "outputs": [
    {
     "data": {
      "text/plain": [
       "0.07959613430790508"
      ]
     },
     "execution_count": 26,
     "metadata": {},
     "output_type": "execute_result"
    }
   ],
   "source": [
    "pfolio_ret.var()*250"
   ]
  },
  {
   "cell_type": "code",
   "execution_count": 27,
   "id": "b90a7775",
   "metadata": {},
   "outputs": [
    {
     "data": {
      "text/plain": [
       "0.2821278687189641"
      ]
     },
     "execution_count": 27,
     "metadata": {},
     "output_type": "execute_result"
    }
   ],
   "source": [
    "pfolio_ret.std()*250**0.5"
   ]
  }
 ],
 "metadata": {
  "kernelspec": {
   "display_name": "Python 3 (ipykernel)",
   "language": "python",
   "name": "python3"
  },
  "language_info": {
   "codemirror_mode": {
    "name": "ipython",
    "version": 3
   },
   "file_extension": ".py",
   "mimetype": "text/x-python",
   "name": "python",
   "nbconvert_exporter": "python",
   "pygments_lexer": "ipython3",
   "version": "3.9.13"
  }
 },
 "nbformat": 4,
 "nbformat_minor": 5
}
